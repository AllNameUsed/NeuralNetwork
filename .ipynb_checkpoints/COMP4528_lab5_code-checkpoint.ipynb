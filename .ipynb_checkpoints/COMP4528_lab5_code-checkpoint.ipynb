{
 "cells": [
  {
   "cell_type": "markdown",
   "metadata": {
    "tags": []
   },
   "source": [
    "## COMP4528 Lab4\n",
    "\n",
    "In this lab, we'll delve into the implementation of deep neural networks for computer vision classification using PyTorch. It's essential to have a solid understanding of PyTorch programming for Assignment 2.\n",
    "\n",
    "In this lab, we will cover:\n",
    "- Implement PyTorch Dataset and DataLoader classes\n",
    "- Implement a simple fully-connected network\n",
    "- Implement a convolutional neural network\n",
    "- Implement the training and testing function for models"
   ]
  },
  {
   "cell_type": "code",
   "execution_count": 1,
   "metadata": {},
   "outputs": [],
   "source": [
    "import random\n",
    "\n",
    "import matplotlib.pyplot as plt\n",
    "import numpy as np\n",
    "import torch\n",
    "import torch.nn as nn\n",
    "import torch.nn.functional as F\n",
    "from torch.utils.data import Dataset, DataLoader\n",
    "import torchvision.transforms as T"
   ]
  },
  {
   "cell_type": "code",
   "execution_count": 2,
   "metadata": {},
   "outputs": [
    {
     "name": "stdout",
     "output_type": "stream",
     "text": [
      "cuda\n",
      "['arr_0']\n"
     ]
    }
   ],
   "source": [
    "n_epoch = 20\n",
    "batch_size = 64\n",
    "lr = 1e-3\n",
    "betas = (0.9, 0.999)\n",
    "if torch.cuda.is_available():\n",
    "    device = \"cuda\"\n",
    "elif torch.backends.mps.is_available():\n",
    "    device = \"mps\"\n",
    "else:\n",
    "    device = \"cpu\"\n",
    "print(device)\n",
    "# make results determinstic\n",
    "seed = 42\n",
    "random.seed(seed)\n",
    "np.random.seed(seed)\n",
    "torch.manual_seed(seed)\n",
    "torch.cuda.manual_seed(seed)\n",
    "torch.backends.cudnn.deterministic = True\n",
    "torch.backends.cudnn.benchmark = False\n",
    "\n",
    "\n",
    "labels = np.load(r\"data/kmnist-test-labels.npz\").files\n",
    "print(labels)"
   ]
  },
  {
   "cell_type": "code",
   "execution_count": 3,
   "metadata": {},
   "outputs": [],
   "source": [
    "import numpy as np\n",
    "class KMNIST(Dataset):\n",
    "    # TODO: Implement the KMNIST Dataset class according to the PyTorch tutorial\n",
    "    #       https://pytorch.org/tutorials/beginner/basics/data_tutorial.html#creating-a-custom-dataset-for-your-files\n",
    "    def __init__(self, img_path, label_path, transforms):\n",
    "        self.labels = np.load(label_path)['arr_0']\n",
    "        self.imgs = np.load(img_path)['arr_0']\n",
    "        self.transforms = transforms\n",
    "\n",
    "    def __len__(self):\n",
    "        return len(self.labels)\n",
    "\n",
    "    def __getitem__(self, index):\n",
    "        img = self.imgs[index]\n",
    "        label = self.labels[index]\n",
    "        if self.transforms:\n",
    "            img = self.transforms(img)\n",
    "        return img, label"
   ]
  },
  {
   "cell_type": "code",
   "execution_count": 4,
   "metadata": {},
   "outputs": [],
   "source": [
    "# NOTE: transformation defined for this classification task, data augmentation techniques used during training.\n",
    "#       To understand each transformation, please read https://pytorch.org/vision/stable/transforms.html\n",
    "#       - (Normalize data to range between [-1, 1])\n",
    "#       - (Randomly flip the image left to right)\n",
    "#       - (Zero-pad 4 pixels on each side and randomly crop 28x28 as input)\n",
    "train_transforms = T.Compose([\n",
    "    T.ToTensor(),\n",
    "    T.ConvertImageDtype(torch.float),\n",
    "    T.Normalize((0.5,), (0.5,)),\n",
    "    T.RandomCrop(size=(28, 28), padding=4),\n",
    "])\n",
    "\n",
    "test_transforms = T.Compose([\n",
    "    T.ToTensor(),\n",
    "    T.ConvertImageDtype(torch.float),\n",
    "    T.Normalize((0.5,), (0.5,)),\n",
    "])"
   ]
  },
  {
   "cell_type": "code",
   "execution_count": 18,
   "metadata": {},
   "outputs": [],
   "source": [
    "# TODO: Load training, validation and testing data use the Dataset and transformations defined above.\n",
    "#       Then, for each dataset, create the corresponding DataLoader class with batch_size provided\n",
    "#       https://pytorch.org/tutorials/beginner/basics/data_tutorial.html#preparing-your-data-for-training-with-dataloaders\n",
    "train_dataset = KMNIST(\n",
    "    \"data/kmnist-train-imgs.npz\",\n",
    "    \"data/kmnist-train-labels.npz\",\n",
    "    train_transforms,\n",
    ")\n",
    "val_dataset = KMNIST(\n",
    "    \"data/kmnist-val-imgs.npz\",\n",
    "    \"data/kmnist-val-labels.npz\",\n",
    "    test_transforms,\n",
    ")\n",
    "test_dataset = KMNIST(\n",
    "    \"data/kmnist-test-imgs.npz\",\n",
    "    \"data/kmnist-test-labels.npz\",\n",
    "    test_transforms,\n",
    ")\n",
    "train_loader = DataLoader(\n",
    "    dataset = train_dataset,\n",
    "    batch_size = batch_size,\n",
    "    shuffle = True,\n",
    "    num_workers = 0)\n",
    "val_loader = DataLoader(\n",
    "    dataset = val_dataset,\n",
    "    batch_size = batch_size,\n",
    "    shuffle = True,\n",
    "    num_workers = 0)\n",
    "test_loader = DataLoader(\n",
    "    dataset = test_dataset,\n",
    "    batch_size = batch_size,\n",
    "    shuffle = True,\n",
    "    num_workers = 0)"
   ]
  },
  {
   "cell_type": "code",
   "execution_count": 19,
   "metadata": {},
   "outputs": [],
   "source": [
    "class FcClassifier(nn.Module):\n",
    "    # TODO: Implement a fully-connected neural network with an architecture listed below\n",
    "    #       - Fully-connected layer with 512 output units.\n",
    "    #       - ReLU Activation Layer.\n",
    "    #       - Fully-connected layer with 128 output units.\n",
    "    #       - ReLU Activation Layer.\n",
    "    #       - Fully-connected layer with 10 output units.\n",
    "    #       https://pytorch.org/tutorials/recipes/recipes/defining_a_neural_network.html\n",
    "    def __init__(self):\n",
    "        super(FcClassifier, self).__init__()\n",
    "        # First fully connected layer\n",
    "        self.fc1 = nn.Linear(784, 512)\n",
    "        # Second fully connected layer that outputs our 10 labels\n",
    "        self.fc2 = nn.Linear(512, 128)\n",
    "        # Third fully connected layer that outputs our 10 labels\n",
    "        self.fc3 = nn.Linear(128, 10)\n",
    "    \n",
    "    def forward(self, x):\n",
    "        # NOTE: Flatten has been done\n",
    "        x = x.view(x.size(0), -1)\n",
    "        x = self.fc1(x)\n",
    "        x = F.relu(x)\n",
    "        x = self.fc2(x)\n",
    "        x = F.relu(x)\n",
    "        x = self.fc3(x)\n",
    "        x = F.relu(x)\n",
    "        \n",
    "        # output = F.log_softmax(x, dim=1)\n",
    "        return x"
   ]
  },
  {
   "cell_type": "code",
   "execution_count": 20,
   "metadata": {},
   "outputs": [],
   "source": [
    "def train(model, train_loader, val_loader, device, optimizer, n_epoch):\n",
    "    # TODO: Implement training code, you should `print out` training and validation accuracy and loss during training\n",
    "    #       You should define the loss function (cross-entropy loss) within this function\n",
    "    #       Remember to load the best state_dict (highest validation accuracy) before exiting this function, so you are not overfitting.\n",
    "    #       https://pytorch.org/tutorials/beginner/blitz/cifar10_tutorial.html\n",
    "    criterion = nn.CrossEntropyLoss()\n",
    "    max_acc = 0\n",
    "    for epoch in range(n_epoch):  # loop over the dataset multiple times\n",
    "        for i, data in enumerate(train_loader):\n",
    "            # get the inputs; data is a list of [inputs, labels]\n",
    "            inputs, labels = data\n",
    "            # zero the parameter gradients\n",
    "            optimizer.zero_grad()\n",
    "\n",
    "            # forward + backward + optimize\n",
    "            inputs = inputs.to(device) \n",
    "            labels = labels.to(device) \n",
    "            outputs = model(inputs)\n",
    "            loss = criterion(outputs, labels)\n",
    "            loss.backward()\n",
    "            optimizer.step()\n",
    "        print(\"Epoch number \" + str(epoch)+\" , loss = \" + str(loss.item()))\n",
    "        acc, l = test(model, val_loader, device)\n",
    "        print(\"Evaluation accuracy \" + str(acc)+\" , loss = \" + str(l))\n",
    "        if acc > max_acc:\n",
    "            max_acc = acc\n",
    "            torch.save(model.state_dict(), \"best_model.pt\")\n",
    "    print('Finished Training')\n",
    "    return model\n",
    "\n",
    "        \n",
    "\n",
    "\n",
    "def test(model, test_loader, device):\n",
    "    # TODO: Implement testing code, you should `RETURN` the testing accuracy and loss on the given test_loader\n",
    "    #       You should define the loss function (cross-entropy loss) within this function\n",
    "    correct = 0\n",
    "    total = 0\n",
    "    criterion = nn.CrossEntropyLoss()\n",
    "    # since we're not training, we don't need to calculate the gradients for our outputs\n",
    "    with torch.no_grad():\n",
    "        for data in val_loader:\n",
    "            images, labels = data\n",
    "            images = images.to(device) \n",
    "            labels = labels.to(device) \n",
    "            # calculate outputs by running images through the network\n",
    "            outputs = model(images)\n",
    "            loss = criterion(outputs, labels)\n",
    "            # the class with the highest energy is what we choose as prediction\n",
    "            _, predicted = torch.max(outputs.data, 1)\n",
    "            total += labels.size(0)\n",
    "            correct += (predicted == labels).sum().item()\n",
    "            \n",
    "    accuracy = 100 * correct / total \n",
    "    return accuracy, loss.item()\n",
    "    "
   ]
  },
  {
   "cell_type": "code",
   "execution_count": 35,
   "metadata": {},
   "outputs": [],
   "source": [
    "model = FcClassifier().cuda()\n",
    "optimizer = torch.optim.Adam(model.parameters(), lr=lr, betas=betas)"
   ]
  },
  {
   "cell_type": "code",
   "execution_count": 36,
   "metadata": {},
   "outputs": [
    {
     "name": "stdout",
     "output_type": "stream",
     "text": [
      "Epoch number 0 , loss = 1.1153783798217773\n",
      "Evaluation accuracy 68.2 , loss = 0.5926669239997864\n",
      "Epoch number 1 , loss = 0.7342511415481567\n",
      "Evaluation accuracy 70.2 , loss = 0.9192866086959839\n",
      "Epoch number 2 , loss = 0.8607487678527832\n",
      "Evaluation accuracy 69.8 , loss = 1.0775744915008545\n",
      "Epoch number 3 , loss = 0.9003502726554871\n",
      "Evaluation accuracy 70.7 , loss = 0.748070240020752\n",
      "Epoch number 4 , loss = 0.5626799464225769\n",
      "Evaluation accuracy 70.8 , loss = 0.7226117849349976\n",
      "Epoch number 5 , loss = 0.8733702301979065\n",
      "Evaluation accuracy 71.1 , loss = 0.7504605650901794\n",
      "Epoch number 6 , loss = 0.8372029662132263\n",
      "Evaluation accuracy 70.1 , loss = 0.8910858035087585\n",
      "Epoch number 7 , loss = 0.5554274916648865\n",
      "Evaluation accuracy 72.8 , loss = 0.6326558589935303\n",
      "Epoch number 8 , loss = 0.7837399840354919\n",
      "Evaluation accuracy 74.0 , loss = 1.055847406387329\n",
      "Epoch number 9 , loss = 0.5032846331596375\n",
      "Evaluation accuracy 74.8 , loss = 0.8207271695137024\n",
      "Epoch number 10 , loss = 0.5611507296562195\n",
      "Evaluation accuracy 74.5 , loss = 0.9005026817321777\n",
      "Epoch number 11 , loss = 0.7136766314506531\n",
      "Evaluation accuracy 75.3 , loss = 0.5232817530632019\n",
      "Epoch number 12 , loss = 0.7553868889808655\n",
      "Evaluation accuracy 75.4 , loss = 0.8253293037414551\n",
      "Epoch number 13 , loss = 0.4904612898826599\n",
      "Evaluation accuracy 74.4 , loss = 0.5084935426712036\n",
      "Epoch number 14 , loss = 0.6454137563705444\n",
      "Evaluation accuracy 75.3 , loss = 0.7403463125228882\n",
      "Epoch number 15 , loss = 0.8261038661003113\n",
      "Evaluation accuracy 75.4 , loss = 0.7678357362747192\n",
      "Epoch number 16 , loss = 0.9156827330589294\n",
      "Evaluation accuracy 75.8 , loss = 0.5716029405593872\n",
      "Epoch number 17 , loss = 0.5073739290237427\n",
      "Evaluation accuracy 76.3 , loss = 0.5484288930892944\n",
      "Epoch number 18 , loss = 0.4455612003803253\n",
      "Evaluation accuracy 76.0 , loss = 0.5914171934127808\n",
      "Epoch number 19 , loss = 0.6899401545524597\n",
      "Evaluation accuracy 75.6 , loss = 0.6515113115310669\n",
      "Finished Training\n"
     ]
    },
    {
     "data": {
      "text/plain": [
       "FcClassifier(\n",
       "  (fc1): Linear(in_features=784, out_features=512, bias=True)\n",
       "  (fc2): Linear(in_features=512, out_features=128, bias=True)\n",
       "  (fc3): Linear(in_features=128, out_features=10, bias=True)\n",
       ")"
      ]
     },
     "execution_count": 36,
     "metadata": {},
     "output_type": "execute_result"
    }
   ],
   "source": [
    "train(model, train_loader, val_loader, device, optimizer, n_epoch)"
   ]
  },
  {
   "cell_type": "code",
   "execution_count": 37,
   "metadata": {},
   "outputs": [
    {
     "name": "stdout",
     "output_type": "stream",
     "text": [
      "Test loss: 0.605023205280304, Test accuracy: 75.6\n"
     ]
    }
   ],
   "source": [
    "test_acc, test_loss = test(model, test_loader, device)\n",
    "print(f\"Test loss: {test_loss}, Test accuracy: {test_acc}\")"
   ]
  },
  {
   "cell_type": "code",
   "execution_count": 11,
   "metadata": {},
   "outputs": [
    {
     "name": "stdout",
     "output_type": "stream",
     "text": [
      "Epoch number 0 , loss = 0.9550157785415649\n",
      "Evaluation accuracy 63.8 , loss = 1.1631648540496826\n",
      "Epoch number 1 , loss = 0.8217390775680542\n",
      "Evaluation accuracy 63.8 , loss = 0.8047768473625183\n",
      "Epoch number 2 , loss = 0.78706294298172\n",
      "Evaluation accuracy 65.1 , loss = 0.8471577763557434\n",
      "Epoch number 3 , loss = 1.105034589767456\n",
      "Evaluation accuracy 66.3 , loss = 0.5618926286697388\n",
      "Epoch number 4 , loss = 0.7950542569160461\n",
      "Evaluation accuracy 66.3 , loss = 0.8734108805656433\n",
      "Epoch number 5 , loss = 0.64277184009552\n",
      "Evaluation accuracy 66.1 , loss = 1.0858489274978638\n",
      "Epoch number 6 , loss = 0.6162272691726685\n",
      "Evaluation accuracy 65.4 , loss = 0.7936688661575317\n",
      "Epoch number 7 , loss = 0.9403723478317261\n",
      "Evaluation accuracy 66.7 , loss = 1.3389756679534912\n",
      "Epoch number 8 , loss = 0.42294079065322876\n",
      "Evaluation accuracy 66.9 , loss = 0.5504032969474792\n",
      "Epoch number 9 , loss = 1.068264126777649\n",
      "Evaluation accuracy 65.8 , loss = 0.8499429821968079\n",
      "Epoch number 10 , loss = 0.7901517152786255\n",
      "Evaluation accuracy 75.1 , loss = 1.2492454051971436\n",
      "Epoch number 11 , loss = 0.6756723523139954\n",
      "Evaluation accuracy 75.8 , loss = 0.4984496235847473\n",
      "Epoch number 12 , loss = 0.4609222710132599\n",
      "Evaluation accuracy 82.5 , loss = 0.517025351524353\n",
      "Epoch number 13 , loss = 0.5250621438026428\n",
      "Evaluation accuracy 82.2 , loss = 0.7751191854476929\n",
      "Epoch number 14 , loss = 0.29344412684440613\n",
      "Evaluation accuracy 83.2 , loss = 0.7694649696350098\n",
      "Epoch number 15 , loss = 0.2504642903804779\n",
      "Evaluation accuracy 82.9 , loss = 0.5586467385292053\n",
      "Epoch number 16 , loss = 0.5622568726539612\n",
      "Evaluation accuracy 83.0 , loss = 0.45873910188674927\n",
      "Epoch number 17 , loss = 0.5745886564254761\n",
      "Evaluation accuracy 83.6 , loss = 0.405573308467865\n",
      "Epoch number 18 , loss = 0.7424484491348267\n",
      "Evaluation accuracy 83.4 , loss = 0.27900251746177673\n",
      "Epoch number 19 , loss = 0.5796812772750854\n",
      "Evaluation accuracy 82.0 , loss = 0.5726265907287598\n",
      "Finished Training\n"
     ]
    },
    {
     "data": {
      "text/plain": [
       "FcClassifier(\n",
       "  (fc1): Linear(in_features=784, out_features=512, bias=True)\n",
       "  (fc2): Linear(in_features=512, out_features=128, bias=True)\n",
       "  (fc3): Linear(in_features=128, out_features=10, bias=True)\n",
       ")"
      ]
     },
     "execution_count": 11,
     "metadata": {},
     "output_type": "execute_result"
    }
   ],
   "source": [
    "train(model, train_loader, val_loader, device, optimizer, n_epoch)"
   ]
  },
  {
   "cell_type": "code",
   "execution_count": 12,
   "metadata": {},
   "outputs": [
    {
     "name": "stdout",
     "output_type": "stream",
     "text": [
      "Test loss: 0.4096739888191223, Test accuracy: 83.9\n"
     ]
    }
   ],
   "source": [
    "test_acc, test_loss = test(model, test_loader, device)\n",
    "print(f\"Test loss: {test_loss}, Test accuracy: {test_acc}\")"
   ]
  },
  {
   "cell_type": "code",
   "execution_count": 87,
   "metadata": {},
   "outputs": [],
   "source": [
    "class CNN(nn.Module):\n",
    "    # TODO: Implement the convolutional neural network with the following architecture\n",
    "    #       - 5×5 Convolutional Layer with 32 filters, stride 1 and padding 2.\n",
    "    #       - ReLU Activation Layer.\n",
    "    #       - 2×2 Max Pooling Layer with a stride of 2.\n",
    "    #       - 3×3 Convolutional Layer with 64 filters, stride 1 and padding 1.\n",
    "    #       - ReLU Activation Layer.\n",
    "    #       - 2×2 Max Pooling Layer with a stride of 2。\n",
    "    #       - Fully-connected layer with 1024 output units.\n",
    "    #       - ReLU Activation Layer.\n",
    "    #       - Fully-connected layer with 10 output units.\n",
    "    def __init__(self):\n",
    "        super(CNN, self).__init__()\n",
    "        self.conv1 = nn.Conv2d(in_channels = 1, out_channels = 32, kernel_size = 5, stride = 1, padding = 2)\n",
    "        self.subsamping = nn.MaxPool2d(kernel_size = 2, stride = 2)\n",
    "        self.conv2 = nn.Conv2d(in_channels = 32, out_channels = 64, kernel_size = 3, stride = 1, padding = 1)\n",
    "        self.fc1 = nn.Linear(64*7*7, 1024)\n",
    "        self.fc2 = nn.Linear(1024, 10)\n",
    "\n",
    "    def forward(self, x):\n",
    "        x = F.relu(self.conv1(x))\n",
    "        x = self.subsamping(x)\n",
    "        x = F.relu(self.conv2(x))\n",
    "        x = self.subsamping(x)\n",
    "        x = torch.flatten(x, 1)\n",
    "        x = F.relu(self.fc1(x))\n",
    "        return self.fc2(x)"
   ]
  },
  {
   "cell_type": "code",
   "execution_count": 88,
   "metadata": {},
   "outputs": [],
   "source": [
    "model = CNN().to(device)\n",
    "optimizer = torch.optim.Adam(model.parameters(), lr=lr, betas=betas)"
   ]
  },
  {
   "cell_type": "code",
   "execution_count": 89,
   "metadata": {},
   "outputs": [
    {
     "name": "stdout",
     "output_type": "stream",
     "text": [
      "Epoch number 0 , loss = 0.17248190939426422\n",
      "Evaluation accuracy 93.1 , loss = 0.062367163598537445\n",
      "Epoch number 1 , loss = 0.06702597439289093\n",
      "Evaluation accuracy 95.6 , loss = 0.18980515003204346\n",
      "Epoch number 2 , loss = 0.053638994693756104\n",
      "Evaluation accuracy 96.7 , loss = 0.04805807024240494\n",
      "Epoch number 3 , loss = 0.09582117944955826\n",
      "Evaluation accuracy 97.6 , loss = 0.02678241766989231\n",
      "Epoch number 4 , loss = 0.006938578095287085\n",
      "Evaluation accuracy 96.6 , loss = 0.11795906722545624\n",
      "Epoch number 5 , loss = 0.019981175661087036\n",
      "Evaluation accuracy 98.2 , loss = 0.08908823132514954\n",
      "Epoch number 6 , loss = 0.009502657689154148\n",
      "Evaluation accuracy 98.1 , loss = 0.05021745711565018\n",
      "Epoch number 7 , loss = 0.0218160692602396\n",
      "Evaluation accuracy 97.7 , loss = 0.041722867637872696\n",
      "Epoch number 8 , loss = 0.06459479033946991\n",
      "Evaluation accuracy 97.5 , loss = 0.012130286544561386\n",
      "Epoch number 9 , loss = 0.0718238577246666\n",
      "Evaluation accuracy 98.0 , loss = 0.06090028956532478\n",
      "Epoch number 10 , loss = 0.02025928907096386\n",
      "Evaluation accuracy 97.3 , loss = 0.001418111496604979\n",
      "Epoch number 11 , loss = 0.0015871988143771887\n",
      "Evaluation accuracy 98.1 , loss = 0.036408718675374985\n",
      "Epoch number 12 , loss = 0.025816941633820534\n",
      "Evaluation accuracy 98.0 , loss = 0.001229574205353856\n",
      "Epoch number 13 , loss = 0.047786910086870193\n",
      "Evaluation accuracy 98.4 , loss = 0.0410287007689476\n",
      "Epoch number 14 , loss = 0.04974878579378128\n",
      "Evaluation accuracy 98.1 , loss = 0.4191851019859314\n",
      "Epoch number 15 , loss = 0.012946057133376598\n",
      "Evaluation accuracy 98.2 , loss = 0.07574794441461563\n",
      "Epoch number 16 , loss = 0.00817078910768032\n",
      "Evaluation accuracy 98.9 , loss = 0.0975506454706192\n",
      "Epoch number 17 , loss = 0.018017413094639778\n",
      "Evaluation accuracy 98.5 , loss = 0.009464764967560768\n",
      "Epoch number 18 , loss = 0.0032930674497038126\n",
      "Evaluation accuracy 98.5 , loss = 0.03506329283118248\n",
      "Epoch number 19 , loss = 0.002477426780387759\n",
      "Evaluation accuracy 98.3 , loss = 0.006697692908346653\n",
      "Finished Training\n"
     ]
    },
    {
     "data": {
      "text/plain": [
       "CNN(\n",
       "  (conv1): Conv2d(1, 32, kernel_size=(5, 5), stride=(1, 1), padding=(2, 2))\n",
       "  (subsamping): MaxPool2d(kernel_size=2, stride=2, padding=0, dilation=1, ceil_mode=False)\n",
       "  (conv2): Conv2d(32, 64, kernel_size=(3, 3), stride=(1, 1), padding=(1, 1))\n",
       "  (fc1): Linear(in_features=3136, out_features=1024, bias=True)\n",
       "  (fc2): Linear(in_features=1024, out_features=10, bias=True)\n",
       ")"
      ]
     },
     "execution_count": 89,
     "metadata": {},
     "output_type": "execute_result"
    }
   ],
   "source": [
    "train(model, train_loader, val_loader, device, optimizer, n_epoch)"
   ]
  },
  {
   "cell_type": "code",
   "execution_count": 90,
   "metadata": {},
   "outputs": [
    {
     "name": "stdout",
     "output_type": "stream",
     "text": [
      "Test loss: 0.06300608813762665, Test accuracy: 98.8\n"
     ]
    }
   ],
   "source": [
    "test_acc, test_loss = test(model, test_loader, device)\n",
    "print(f\"Test loss: {test_loss}, Test accuracy: {test_acc}\")"
   ]
  },
  {
   "cell_type": "code",
   "execution_count": 91,
   "metadata": {},
   "outputs": [
    {
     "data": {
      "image/png": "[encoded data removed]",
      "text/plain": [
       "<Figure size 640x480 with 1 Axes>"
      ]
     },
     "metadata": {},
     "output_type": "display_data"
    },
    {
     "name": "stdout",
     "output_type": "stream",
     "text": [
      "Model prediction: れ\n",
      "Ground truth: れ\n"
     ]
    }
   ],
   "source": [
    "# Visualization and predictions\n",
    "classes = ('お', 'き', 'す', 'つ', 'な', 'は', 'ま', 'や', 'れ', 'を')\n",
    "img, label = test_dataset[6]\n",
    "plt.imshow(img.squeeze(0), cmap=\"gray\")\n",
    "plt.show()\n",
    "img = img.to(device)\n",
    "pred = int(torch.argmax(model(img.unsqueeze(0)), dim=1)[0])\n",
    "print(f\"Model prediction: {classes[label]}\\nGround truth: {classes[label]}\")"
   ]
  },
  {
   "cell_type": "markdown",
   "metadata": {},
   "source": [
    "### Try a deeper CNN model for a higher classification accuracy\n",
    "**NOTE: This part would require GPU computing power. You may skip this part during the lab.**"
   ]
  },
  {
   "cell_type": "code",
   "execution_count": 13,
   "metadata": {},
   "outputs": [],
   "source": [
    "class DeepCNN(nn.Module):\n",
    "    # TODO: Implement the convolutional neural network with more layers than the previous one.\n",
    "    #       Test the model accuracy and see whether there is a performance gain.\n",
    "    def __init__(self):\n",
    "        super(DeepCNN, self).__init__()\n",
    "        self.conv1 = nn.Conv2d(in_channels = 1, out_channels = 32, kernel_size = 5, stride = 1, padding = 2)\n",
    "        # self.subsamping = nn.MaxPool2d(kernel_size = 2, stride = 2)\n",
    "        self.conv2 = nn.Conv2d(in_channels = 32, out_channels = 32, kernel_size = 2, stride = 2, padding = 0)\n",
    "        self.conv3 = nn.Conv2d(in_channels = 32, out_channels = 64, kernel_size = 3, stride = 1, padding = 1)\n",
    "        self.conv4 = nn.Conv2d(in_channels = 64, out_channels = 64, kernel_size = 2, stride = 2, padding = 0)\n",
    "        self.fc1 = nn.Linear(64*7*7, 1024)\n",
    "        self.fc2 = nn.Linear(1024, 10)\n",
    "\n",
    "    def forward(self, x):\n",
    "        x = F.relu(self.conv1(x))\n",
    "        x = self.conv2(x)\n",
    "        x = F.relu(self.conv3(x))\n",
    "        x = self.conv4(x)\n",
    "        x = torch.flatten(x, 1)\n",
    "        x = F.relu(self.fc1(x))\n",
    "        return self.fc2(x)"
   ]
  },
  {
   "cell_type": "code",
   "execution_count": 14,
   "metadata": {},
   "outputs": [],
   "source": [
    "model = DeepCNN().to(device)\n",
    "optimizer = torch.optim.Adam(model.parameters(), lr=lr, betas=betas)"
   ]
  },
  {
   "cell_type": "code",
   "execution_count": 17,
   "metadata": {},
   "outputs": [
    {
     "name": "stdout",
     "output_type": "stream",
     "text": [
      "Epoch number 0 , loss = 0.07278585433959961\n",
      "Evaluation accuracy 97.5 , loss = 0.20767100155353546\n",
      "Epoch number 1 , loss = 0.061321910470724106\n",
      "Evaluation accuracy 98.2 , loss = 0.0014424609253183007\n",
      "Epoch number 2 , loss = 0.02370794117450714\n",
      "Evaluation accuracy 97.6 , loss = 0.11627461016178131\n",
      "Epoch number 3 , loss = 0.003226394299417734\n",
      "Evaluation accuracy 98.1 , loss = 0.16836097836494446\n",
      "Epoch number 4 , loss = 5.010820586903719e-06\n",
      "Evaluation accuracy 98.1 , loss = 0.12929776310920715\n",
      "Epoch number 5 , loss = 0.003897326299920678\n",
      "Evaluation accuracy 98.4 , loss = 0.6596704721450806\n",
      "Epoch number 6 , loss = 0.03734453395009041\n",
      "Evaluation accuracy 98.9 , loss = 0.03715340048074722\n",
      "Epoch number 7 , loss = 0.21569590270519257\n",
      "Evaluation accuracy 98.2 , loss = 1.5775141716003418\n",
      "Epoch number 8 , loss = 0.02401292696595192\n",
      "Evaluation accuracy 98.2 , loss = 0.12760813534259796\n",
      "Epoch number 9 , loss = 0.02663019672036171\n",
      "Evaluation accuracy 98.7 , loss = 0.01485955249518156\n",
      "Epoch number 10 , loss = 0.03840959072113037\n",
      "Evaluation accuracy 97.9 , loss = 0.13303926587104797\n",
      "Epoch number 11 , loss = 0.05781076103448868\n",
      "Evaluation accuracy 98.2 , loss = 0.00030839774990454316\n",
      "Epoch number 12 , loss = 0.019872790202498436\n",
      "Evaluation accuracy 97.9 , loss = 0.22885997593402863\n",
      "Epoch number 13 , loss = 2.8362397642922588e-05\n",
      "Evaluation accuracy 97.7 , loss = 3.0120490919216536e-05\n",
      "Epoch number 14 , loss = 0.04584368318319321\n",
      "Evaluation accuracy 98.9 , loss = 0.008705354295670986\n",
      "Epoch number 15 , loss = 0.013364559039473534\n",
      "Evaluation accuracy 98.0 , loss = 0.002405588049441576\n",
      "Epoch number 16 , loss = 0.005227581597864628\n",
      "Evaluation accuracy 98.0 , loss = 0.22514745593070984\n",
      "Epoch number 17 , loss = 0.01388377882540226\n",
      "Evaluation accuracy 98.2 , loss = 1.4222334623336792\n",
      "Epoch number 18 , loss = 0.04330824688076973\n",
      "Evaluation accuracy 97.6 , loss = 0.0005132464575581253\n",
      "Epoch number 19 , loss = 0.00012814518413506448\n",
      "Evaluation accuracy 98.6 , loss = 9.499384759692475e-06\n",
      "Finished Training\n"
     ]
    },
    {
     "data": {
      "text/plain": [
       "DeepCNN(\n",
       "  (conv1): Conv2d(1, 32, kernel_size=(5, 5), stride=(1, 1), padding=(2, 2))\n",
       "  (conv2): Conv2d(32, 32, kernel_size=(2, 2), stride=(2, 2))\n",
       "  (conv3): Conv2d(32, 64, kernel_size=(3, 3), stride=(1, 1), padding=(1, 1))\n",
       "  (conv4): Conv2d(64, 64, kernel_size=(2, 2), stride=(2, 2))\n",
       "  (fc1): Linear(in_features=3136, out_features=1024, bias=True)\n",
       "  (fc2): Linear(in_features=1024, out_features=10, bias=True)\n",
       ")"
      ]
     },
     "execution_count": 17,
     "metadata": {},
     "output_type": "execute_result"
    }
   ],
   "source": [
    "train(model, train_loader, val_loader, device, optimizer, n_epoch)"
   ]
  },
  {
   "cell_type": "code",
   "execution_count": 18,
   "metadata": {},
   "outputs": [
    {
     "name": "stdout",
     "output_type": "stream",
     "text": [
      "Test loss: 0.1373709738254547, Test accuracy: 98.1\n"
     ]
    }
   ],
   "source": [
    "test_acc, test_loss = test(model, test_loader, device)\n",
    "print(f\"Test loss: {test_loss}, Test accuracy: {test_acc}\")"
   ]
  },
  {
   "cell_type": "code",
   "execution_count": null,
   "metadata": {},
   "outputs": [],
   "source": []
  }
 ],
 "metadata": {
  "kernelspec": {
   "display_name": "Python 3 (ipykernel)",
   "language": "python",
   "name": "python3"
  },
  "language_info": {
   "codemirror_mode": {
    "name": "ipython",
    "version": 3
   },
   "file_extension": ".py",
   "mimetype": "text/x-python",
   "name": "python",
   "nbconvert_exporter": "python",
   "pygments_lexer": "ipython3",
   "version": "3.9.16"
  },
  "vscode": {
   "interpreter": {
    "hash": "16fb029d2d2f281c76137439d9122480f0701165270269ef0c874281e28a4d48"
   }
  }
 },
 "nbformat": 4,
 "nbformat_minor": 4
}
